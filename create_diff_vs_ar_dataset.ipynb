{
 "cells": [
  {
   "cell_type": "code",
   "execution_count": 1,
   "id": "3309194c",
   "metadata": {},
   "outputs": [
    {
     "name": "stderr",
     "output_type": "stream",
     "text": [
      "/network/scratch/b/buvanesa/conda_envs/torch_cuda/lib/python3.12/site-packages/tqdm/auto.py:21: TqdmWarning: IProgress not found. Please update jupyter and ipywidgets. See https://ipywidgets.readthedocs.io/en/stable/user_install.html\n",
      "  from .autonotebook import tqdm as notebook_tqdm\n"
     ]
    }
   ],
   "source": [
    "from datasets import load_dataset\n",
    "dataset_name = 'star-graph-deg-7-path-7-nodes-300'\n",
    "dataset = load_dataset(f'anirudhb11/{dataset_name}')\n",
    "\n",
    "# {\"input\": \"5,9/11,7/2,1/9,3/3,8/7,2/8,4/6,11/5,6/4,0-5,1\", \"output\": \"5,6/6,11/11,7/7,2/2,1\", \"reversed\": \"1,2/2,7/7,11/11,6/6,5\"}\n",
    "\n",
    "def convert_to_array(dataset):\n",
    "    arr_dataset = []\n",
    "    for indx in range(len(dataset)):\n",
    "        graph =  dataset[indx]['graph']\n",
    "        path =  dataset[indx]['path']\n",
    "        nodes_in_path = path.split(',')\n",
    "        output_str = ''\n",
    "        for i in range(1, len(nodes_in_path)):\n",
    "            output_str = output_str + f'{nodes_in_path[i-1]},{nodes_in_path[i]}/'\n",
    "        output_str = output_str.rstrip('/')\n",
    "        segments = output_str.split('/')\n",
    "\n",
    "        # Step 2: Parse each segment into a tuple (start, end)\n",
    "        edges = [tuple(seg.split(',')) for seg in segments]\n",
    "\n",
    "        # Step 3: Reverse the order of edges and flip direction\n",
    "        reversed_edges = [(end, start) for start, end in reversed(edges)]\n",
    "\n",
    "        # Step 4: Join back into string format\n",
    "        reversed_path_str = '/'.join([f\"{a},{b}\" for a, b in reversed_edges])\n",
    "\n",
    "            \n",
    "        arr_dataset.append({\n",
    "            'input': graph.replace('|', '/'),\n",
    "            'output': output_str,\n",
    "            'reversed': reversed_path_str\n",
    "        }) \n",
    "    return arr_dataset"
   ]
  },
  {
   "cell_type": "code",
   "execution_count": 2,
   "id": "931b4a70",
   "metadata": {},
   "outputs": [],
   "source": [
    "train_arr = convert_to_array(dataset['train'])"
   ]
  },
  {
   "cell_type": "code",
   "execution_count": 3,
   "id": "3c5624b6",
   "metadata": {},
   "outputs": [],
   "source": [
    "test_arr = convert_to_array(dataset['test'])"
   ]
  },
  {
   "cell_type": "code",
   "execution_count": 4,
   "id": "7a47c779",
   "metadata": {},
   "outputs": [
    {
     "name": "stdout",
     "output_type": "stream",
     "text": [
      "Wont add last\n",
      "\n",
      "Wont add last \n",
      "\n"
     ]
    }
   ],
   "source": [
    "import os\n",
    "import json\n",
    "save_dir = './mgdm_datasets'\n",
    "os.makedirs(save_dir, exist_ok=True)\n",
    "dataset_dir = f'{save_dir}/{dataset_name}'\n",
    "os.makedirs(dataset_dir, exist_ok=True)\n",
    "with open(f\"{dataset_dir}/path_train.jsonl\", \"w\") as f:\n",
    "    for i, item in enumerate(train_arr):\n",
    "        json.dump(item, f)\n",
    "        if i < len(train_arr) - 1:\n",
    "            f.write('\\n')\n",
    "        else:\n",
    "            print('Wont add last\\n')\n",
    "        \n",
    "with open(f\"{dataset_dir}/path_test.jsonl\", \"w\") as f:\n",
    "    for i, item in enumerate(test_arr):\n",
    "        # print(i)\n",
    "        json.dump(item, f)\n",
    "        if i < len(test_arr) - 1:\n",
    "            f.write('\\n')\n",
    "        else:\n",
    "            print('Wont add last \\n')\n"
   ]
  },
  {
   "cell_type": "code",
   "execution_count": null,
   "id": "d0cea1d1",
   "metadata": {},
   "outputs": [],
   "source": []
  }
 ],
 "metadata": {
  "kernelspec": {
   "display_name": "torch_cuda",
   "language": "python",
   "name": "python3"
  },
  "language_info": {
   "codemirror_mode": {
    "name": "ipython",
    "version": 3
   },
   "file_extension": ".py",
   "mimetype": "text/x-python",
   "name": "python",
   "nbconvert_exporter": "python",
   "pygments_lexer": "ipython3",
   "version": "3.12.9"
  }
 },
 "nbformat": 4,
 "nbformat_minor": 5
}
